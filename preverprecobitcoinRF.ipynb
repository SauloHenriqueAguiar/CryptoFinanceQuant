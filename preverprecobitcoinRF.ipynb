{
  "nbformat": 4,
  "nbformat_minor": 0,
  "metadata": {
    "colab": {
      "name": "preverprecobitcoinRF.ipynb",
      "provenance": [],
      "authorship_tag": "ABX9TyPsXO2IPLCof+NUdn/IttsZ",
      "include_colab_link": true
    },
    "kernelspec": {
      "name": "python3",
      "display_name": "Python 3"
    },
    "language_info": {
      "name": "python"
    },
    "accelerator": "GPU",
    "gpuClass": "standard"
  },
  "cells": [
    {
      "cell_type": "markdown",
      "metadata": {
        "id": "view-in-github",
        "colab_type": "text"
      },
      "source": [
        "<a href=\"https://colab.research.google.com/github/SauloHenriqueAguiar/CryptoFinanceQuant/blob/main/preverprecobitcoinRF.ipynb\" target=\"_parent\"><img src=\"https://colab.research.google.com/assets/colab-badge.svg\" alt=\"Open In Colab\"/></a>"
      ]
    },
    {
      "cell_type": "code",
      "source": [
        "!pip install yfinance"
      ],
      "metadata": {
        "colab": {
          "base_uri": "https://localhost:8080/"
        },
        "id": "Dq_YwHJPXgVg",
        "outputId": "ff248ddb-5c2c-460e-8426-ec12b9c36bc4"
      },
      "execution_count": 1,
      "outputs": [
        {
          "output_type": "stream",
          "name": "stdout",
          "text": [
            "Looking in indexes: https://pypi.org/simple, https://us-python.pkg.dev/colab-wheels/public/simple/\n",
            "Collecting yfinance\n",
            "  Downloading yfinance-0.1.74-py2.py3-none-any.whl (27 kB)\n",
            "Requirement already satisfied: lxml>=4.5.1 in /usr/local/lib/python3.7/dist-packages (from yfinance) (4.9.1)\n",
            "Requirement already satisfied: numpy>=1.15 in /usr/local/lib/python3.7/dist-packages (from yfinance) (1.21.6)\n",
            "Requirement already satisfied: multitasking>=0.0.7 in /usr/local/lib/python3.7/dist-packages (from yfinance) (0.0.11)\n",
            "Requirement already satisfied: pandas>=0.24.0 in /usr/local/lib/python3.7/dist-packages (from yfinance) (1.3.5)\n",
            "Collecting requests>=2.26\n",
            "  Downloading requests-2.28.1-py3-none-any.whl (62 kB)\n",
            "\u001b[K     |████████████████████████████████| 62 kB 1.2 MB/s \n",
            "\u001b[?25hRequirement already satisfied: pytz>=2017.3 in /usr/local/lib/python3.7/dist-packages (from pandas>=0.24.0->yfinance) (2022.2.1)\n",
            "Requirement already satisfied: python-dateutil>=2.7.3 in /usr/local/lib/python3.7/dist-packages (from pandas>=0.24.0->yfinance) (2.8.2)\n",
            "Requirement already satisfied: six>=1.5 in /usr/local/lib/python3.7/dist-packages (from python-dateutil>=2.7.3->pandas>=0.24.0->yfinance) (1.15.0)\n",
            "Requirement already satisfied: certifi>=2017.4.17 in /usr/local/lib/python3.7/dist-packages (from requests>=2.26->yfinance) (2022.6.15)\n",
            "Requirement already satisfied: urllib3<1.27,>=1.21.1 in /usr/local/lib/python3.7/dist-packages (from requests>=2.26->yfinance) (1.24.3)\n",
            "Requirement already satisfied: charset-normalizer<3,>=2 in /usr/local/lib/python3.7/dist-packages (from requests>=2.26->yfinance) (2.1.1)\n",
            "Requirement already satisfied: idna<4,>=2.5 in /usr/local/lib/python3.7/dist-packages (from requests>=2.26->yfinance) (2.10)\n",
            "Installing collected packages: requests, yfinance\n",
            "  Attempting uninstall: requests\n",
            "    Found existing installation: requests 2.23.0\n",
            "    Uninstalling requests-2.23.0:\n",
            "      Successfully uninstalled requests-2.23.0\n",
            "Successfully installed requests-2.28.1 yfinance-0.1.74\n"
          ]
        }
      ]
    },
    {
      "cell_type": "markdown",
      "source": [
        "## importação bibliotecas"
      ],
      "metadata": {
        "id": "nvqXBv0iZwKw"
      }
    },
    {
      "cell_type": "code",
      "execution_count": 2,
      "metadata": {
        "id": "id_dav3oXYFu"
      },
      "outputs": [],
      "source": [
        "import yfinance as yf\n",
        "import datetime as dt\n",
        "import pandas as pd\n",
        "import numpy as np\n",
        "from numpy import arange\n",
        "import matplotlib.pyplot as plt\n",
        "from pandas import read_csv\n",
        "from sklearn import metrics\n",
        "from sklearn.model_selection import train_test_split\n",
        "from sklearn.ensemble import RandomForestRegressor\n",
        "from sklearn.preprocessing import StandardScaler\n",
        "from sklearn.model_selection import RandomizedSearchCV"
      ]
    },
    {
      "cell_type": "markdown",
      "source": [
        "## Ativo download"
      ],
      "metadata": {
        "id": "VjpcizQJZ2fX"
      }
    },
    {
      "cell_type": "code",
      "source": [
        "bitcoin = yf.download(\"BTC-USD\", start=\"2015-01-01\", end=\"2022-08-16\")\n",
        "bitcoin_df = pd.DataFrame(bitcoin)\n",
        "bitcoin_df.to_csv(\"bitcoin.csv\")"
      ],
      "metadata": {
        "colab": {
          "base_uri": "https://localhost:8080/"
        },
        "id": "DElT4q0kXmjw",
        "outputId": "13960be0-c9d0-426c-9378-4adb59deefd7"
      },
      "execution_count": 3,
      "outputs": [
        {
          "output_type": "stream",
          "name": "stdout",
          "text": [
            "\r[*********************100%***********************]  1 of 1 completed\n"
          ]
        }
      ]
    },
    {
      "cell_type": "markdown",
      "source": [
        "## Visualização de série "
      ],
      "metadata": {
        "id": "FNxqJtn6Z8hV"
      }
    },
    {
      "cell_type": "code",
      "source": [
        "read_df = pd.read_csv(\"bitcoin.csv\")\n",
        "read_df.set_index(\"Date\", inplace=True)\n",
        "read_df['Adj Close'].plot()\n",
        "plt.ylabel(\"Adjusted Close Prices\")\n",
        "plt.show()"
      ],
      "metadata": {
        "colab": {
          "base_uri": "https://localhost:8080/",
          "height": 281
        },
        "id": "xPJ_n8JEYLz0",
        "outputId": "15fd20e3-8cbd-475a-9f81-26e64022cb8b"
      },
      "execution_count": 4,
      "outputs": [
        {
          "output_type": "display_data",
          "data": {
            "text/plain": [
              "<Figure size 432x288 with 1 Axes>"
            ],
            "image/png": "[encoded data removed]"
          },
          "metadata": {
            "needs_background": "light"
          }
        }
      ]
    },
    {
      "cell_type": "markdown",
      "source": [
        "## pre processamento dos dados"
      ],
      "metadata": {
        "id": "7GW9XBUSaCB5"
      }
    },
    {
      "cell_type": "code",
      "source": [
        "df = pd.read_csv(\"bitcoin.csv\")\n",
        "df.set_index(\"Date\", inplace=True)\n",
        "df.dropna(inplace=True)"
      ],
      "metadata": {
        "id": "5JeLS9ncYbWx"
      },
      "execution_count": 5,
      "outputs": []
    },
    {
      "cell_type": "markdown",
      "source": [
        "## Seleção de Features"
      ],
      "metadata": {
        "id": "cGYXP31KaIIh"
      }
    },
    {
      "cell_type": "code",
      "source": [
        "x = df.iloc[:, 0:5].values\n",
        "y = df.iloc[:, 4].values"
      ],
      "metadata": {
        "id": "JOX11XyhYh64"
      },
      "execution_count": 6,
      "outputs": []
    },
    {
      "cell_type": "markdown",
      "source": [
        "## Divisão de treino e teste"
      ],
      "metadata": {
        "id": "E_HXJNsgaO33"
      }
    },
    {
      "cell_type": "code",
      "source": [
        "x_train, x_test, y_train, y_test = train_test_split(x, y, test_size=0.26,  random_state=0)"
      ],
      "metadata": {
        "id": "KsRmq2lpYn7K"
      },
      "execution_count": 7,
      "outputs": []
    },
    {
      "cell_type": "markdown",
      "source": [
        "## Dimensionamento de Features"
      ],
      "metadata": {
        "id": "XmiMniuZaUts"
      }
    },
    {
      "cell_type": "code",
      "source": [
        "scale = StandardScaler()\n",
        "x_train = scale.fit_transform(x_train)\n",
        "x_test = scale.transform(x_test)"
      ],
      "metadata": {
        "id": "WEjKKWt_YpjH"
      },
      "execution_count": 8,
      "outputs": []
    },
    {
      "cell_type": "markdown",
      "source": [
        "## Ajuste de Hiperparametros\n",
        "usei validação cruzada de pesquisa aleatória neste projeto.\n",
        "\n",
        "Os hiperparâmetros no modelo de floresta aleatória são usados ​​para aumentar o poder preditivo do modelo ou para torná-lo mais rápido.\n",
        "\n",
        "Para um modelo de regressão florestal aleatória, os melhores parâmetros a serem considerados são:\n",
        "\n",
        "1- n_estimators - número de árvores na floresta.\n",
        "\n",
        "2- max_depth— profundidade máxima em uma árvore.\n",
        "\n",
        "3-min_samples_split— número mínimo de pontos de dados antes que a amostra seja dividida.\n",
        "\n",
        "4-min_samples_leaf — número mínimo de nós folha que devem ser amostrados.\n",
        "\n",
        "5-bootstrap— amostragem para pontos de dados, verdadeiro ou falso.\n",
        "\n",
        "6-random_state — números aleatórios gerados para a floresta aleatória.\n"
      ],
      "metadata": {
        "id": "GXgdBnc2aezq"
      }
    },
    {
      "cell_type": "code",
      "source": [
        "grid_rf = {\n",
        "'n_estimators': [20, 50, 100, 500, 1000],  \n",
        "'max_depth': np.arange(1, 15, 1),  \n",
        "'min_samples_split': [2, 10, 9], \n",
        "'min_samples_leaf': np.arange(1, 15, 2, dtype=int),  \n",
        "'bootstrap': [True, False], \n",
        "'random_state': [1, 2, 30, 42]\n",
        "}"
      ],
      "metadata": {
        "id": "wGlf1eBNYsYM"
      },
      "execution_count": 9,
      "outputs": []
    },
    {
      "cell_type": "code",
      "source": [
        "model = RandomForestRegressor(n_estimators=400, random_state=42, min_samples_split=2, min_samples_leaf=1, max_depth=10, bootstrap=True)"
      ],
      "metadata": {
        "id": "QtO6brY_ZZib"
      },
      "execution_count": 15,
      "outputs": []
    },
    {
      "cell_type": "code",
      "source": [
        "rscv = RandomizedSearchCV(estimator=model, param_distributions=grid_rf, cv=3, n_jobs=-1, verbose=2, n_iter=100)\n",
        "rscv_fit = rscv.fit(x_train, y_train)\n",
        "best_parameters = rscv_fit.best_params_\n",
        "print(best_parameters)"
      ],
      "metadata": {
        "colab": {
          "base_uri": "https://localhost:8080/"
        },
        "id": "3vRNI0l6ZLLA",
        "outputId": "2f6df5af-4040-4bf9-c210-360e84f7df6d"
      },
      "execution_count": 16,
      "outputs": [
        {
          "output_type": "stream",
          "name": "stdout",
          "text": [
            "Fitting 3 folds for each of 100 candidates, totalling 300 fits\n",
            "{'random_state': 30, 'n_estimators': 20, 'min_samples_split': 2, 'min_samples_leaf': 1, 'max_depth': 14, 'bootstrap': True}\n"
          ]
        }
      ]
    },
    {
      "cell_type": "markdown",
      "source": [
        " ## Aplicar modelo e prever"
      ],
      "metadata": {
        "id": "-5VotGUZb1UB"
      }
    },
    {
      "cell_type": "code",
      "source": [
        "model = RandomForestRegressor(n_estimators=500, random_state=42, min_samples_split=2, min_samples_leaf=1, max_depth=10, bootstrap=True)\n",
        "model.fit(x_train, y_train)\n",
        "predict = model.predict(x_test)\n",
        "print(predict)\n",
        "print(predict.shape)"
      ],
      "metadata": {
        "colab": {
          "base_uri": "https://localhost:8080/"
        },
        "id": "8r_kKWqkbde3",
        "outputId": "2ec93575-e6f7-4d9e-fefe-bed79c99763f"
      },
      "execution_count": 17,
      "outputs": [
        {
          "output_type": "stream",
          "name": "stdout",
          "text": [
            "[ 3857.85537235   702.01034045  2418.88981413 39165.30765909\n",
            "  7462.35439741   257.89270495  3811.90296966  7413.12697512\n",
            "   335.07447905  4126.44100142   703.50118207   375.49152257\n",
            "   240.4011011  11768.41574527  9521.19477176 18733.55816602\n",
            " 38578.38781588  6638.98783295  6305.22756405  3476.38066479\n",
            "  3331.34013471 42239.84693296   265.4860506  40679.46880469\n",
            "  9332.66610773 10356.47598085 57813.13321224 33876.10870508\n",
            "   377.06878864 42849.09897201 31715.38210352  3854.54047208\n",
            " 19168.68472274  6540.69395     1817.27135649 43907.39277995\n",
            "   412.61468316  2606.51289537  9915.05191531   213.08859129\n",
            "  4329.50838057  6969.210528   57280.89994922   457.12006468\n",
            "   623.12136227 11494.25474628 38352.93589189  3894.16867229\n",
            "   623.2699543   5362.56765622   226.49506756   275.09053383\n",
            " 61689.98865521   225.82714985 56055.33623958 61486.48982656\n",
            "  6325.00090128   306.24706793 41927.78810845  4137.6264744\n",
            "   326.28514754  7543.55107043  3917.82029773 10129.85781849\n",
            " 11204.75404232   920.61661572 60787.94936615  6551.02461853\n",
            "   225.82714985   292.37334605   223.65573022   420.09502715\n",
            "   970.93473455  8076.1315126  11493.77054785   254.71503809\n",
            "  6593.06918217   609.02658558   386.14836224  4422.56568858\n",
            "  6465.23149815   284.25708355 60270.09915104 11678.9444256\n",
            "   611.34921155 41157.21248867  2351.20709993  9195.62754558\n",
            "  1181.72254423  9329.78419589 64262.2024375  44912.3605224\n",
            "  9373.61392308  3687.76867093  9180.08105553 10442.46101464\n",
            "   421.42635545  3353.40331475  9525.25647667  4094.34349096\n",
            "   255.78871411 17896.26929232 10241.36594497 11320.29275224\n",
            " 39282.83082023  8219.59404181  9900.62353352  7810.37679089\n",
            "  4223.16190204   274.17624382   400.24788087 32742.02752632\n",
            "  7490.45670988  6488.53114165 48938.17133631  2529.50391619\n",
            "  2480.23983168   290.89279411 15879.19991992  1046.96873024\n",
            "   581.19353188 43899.47565234  7640.06055839   235.93323387\n",
            " 10683.99683354  3650.08457636 39175.04776828 11330.00799353\n",
            "   281.08046353   282.21303926  6244.04591348  8835.17957855\n",
            " 35569.53445318  1028.09940261   416.98507942  2908.90847241\n",
            " 11503.70827365   610.02697517  7034.76908603  4011.19758733\n",
            " 63202.87435937   454.89201811 47750.02757318 57760.35835677\n",
            " 51722.72886719   371.33464892 13751.13294321  7410.02022868\n",
            "  5566.89767417 10774.76724966  5999.96498936   229.67738064\n",
            "   253.60692759   574.75579155  1116.19900353 53690.74611719\n",
            " 44491.82050052  1007.72887808  1568.32356885   672.75537376\n",
            " 10973.49211351   264.13631813 16521.2160446   7258.03401044\n",
            " 42377.01961678  8245.81025665   374.86102202 11386.29856669\n",
            " 45569.11204883   830.79001334   236.4631109   7765.0599801\n",
            "  4977.91694046 36082.84865286  6526.3867335   1209.61663833\n",
            "  1856.64432235  8804.27022049   751.60351897   824.1255259\n",
            "   653.76802969 48672.90633724  6362.12686501 11491.84980391\n",
            " 39404.02925255   698.8656532  46335.63878177  5742.5488362\n",
            " 10044.62612747   415.03958123   421.2226206    448.97989547\n",
            "   238.48669194 63130.62633203  8670.75411382   246.71437462\n",
            "   333.63234134   281.05560538  9270.60613286  9335.23135166\n",
            " 46735.96238936  6784.53023556   660.97917419  7689.68310679\n",
            "   387.93136143   710.63872068   773.71773695  3955.32430955\n",
            "  5413.06021489  4243.88338715 57361.7675125   8797.57262977\n",
            "  3908.55785207  4026.47072266   226.49506756 13940.81257565\n",
            " 28706.54219375   455.6193767  29758.25862502  2362.58757989\n",
            " 42932.83723438  1467.08454321   672.59052909 23873.10039388\n",
            "  7517.56831476   739.12646502 10798.95712982  6854.71845915\n",
            "   609.25531643   244.09413047 17734.03345247  6480.91100069\n",
            "   240.21647985 10680.73330721 47098.79867258   283.8419121\n",
            "   275.21919021   400.51979879  8187.1642936  37811.49597201\n",
            "   238.04644348  7467.12534931  9386.24823067  6371.79664617\n",
            "  2507.58680344   729.2841826  23937.15108561  1055.63844467\n",
            " 57777.46665755   270.72994055   238.03587493 23367.73361537\n",
            " 43194.92202669  5323.35713661  8164.84012508  6379.25418362\n",
            "  6625.14191231 63079.16036445   445.40812545  8616.9454393\n",
            " 60776.85357969   244.43521845 33717.13092773   703.60137127\n",
            "   579.65498081 43110.51613346  3663.78096233 43625.06314844\n",
            " 36622.90985309 20481.20824591 10312.58682395 10180.53868795\n",
            "  4596.22941914 41505.49954128 55979.23180599  7257.60009771\n",
            " 32381.04170573  9657.88773589  8495.68963628 23825.05309538\n",
            "   420.87777955 49369.46733307 56454.13664714  5809.89579686\n",
            " 10213.05922771  3535.80019083 43668.70894531 23298.56347241\n",
            " 10950.91394418 10343.55859929  9605.65418446  6175.75066871\n",
            "  9243.37231228   443.65899606 10169.58010173 19328.83623896\n",
            "  7318.75354647  1306.3183669  11411.06212027  3777.82356788\n",
            "  3831.9195089   7202.91429774 11941.44886473  4332.81582815\n",
            "   432.91713491   665.46173922   230.30968851 50613.32085603\n",
            "   262.31348097  9449.62482479  3741.96078843  9079.68721154\n",
            "   745.40560029  9270.6747732  11893.70778991 17988.37194531\n",
            " 40456.35905469 22520.29910475   207.06716572   432.2514358\n",
            "  6886.44971571 47696.29101693   743.16593778  6771.46859368\n",
            "  9806.62718183 10944.00589141  8987.66112246  2367.64484641\n",
            "   460.90807464 52366.23679687 58336.08767188   678.34971222\n",
            " 46430.41906445  6324.97843361  2852.52820866 10363.46141239\n",
            "  7042.24683673 49263.43281016   638.8288325  19204.95964189\n",
            " 58394.20611719  4381.47886519   422.78411583  8045.84656196\n",
            "   240.43063767  2559.8633161   7705.54900879   994.6167964\n",
            "  7346.12021521   412.20045838   610.90065803  2161.77279935\n",
            "  3478.34250567 17344.03481901 58552.6288125    235.50024933\n",
            " 46325.45885638  9283.65805767 22629.24797598   712.6645434\n",
            " 42788.92546029  7084.83441877  1041.26442643  2714.47213017\n",
            "  7272.86655771 44463.77989062  8253.4632442   2496.57550581\n",
            "  3896.25082237   459.51836387 43157.62798958   612.02840749\n",
            "   900.53281384 28842.45085254  7413.89908987   639.16458009\n",
            "  8828.64280138   235.94188996  3854.12638601   273.54146485\n",
            "  4274.55663642   604.78634108  4426.5261984  10083.33567113\n",
            " 32130.06522267  4094.4950282   4004.53701218 14661.48620947\n",
            "  4192.12318361  3658.04286472  3824.55798249 58292.25432812\n",
            " 54828.88050781  2667.40672262 10236.29977693 58767.35853125\n",
            " 12259.79013992   236.13946632 58920.65817773   450.78315075\n",
            " 29375.61552728   665.87135251  9887.26028857  6484.6397458\n",
            "   576.56274888  8810.25003556  2046.08188249  1186.54030942\n",
            "  7266.58971785   432.24014048   454.25179041   224.76611241\n",
            "   898.53036722   693.25884165   255.20940125  6291.6765753\n",
            "   232.96256197 13927.10846511 59907.81861458 61327.31724851\n",
            "  1265.32821809 26776.87883984 28493.26572884 47263.48257812\n",
            " 54821.87875391  9525.31260205   235.93323387  1246.93993083\n",
            " 34272.05538437  2603.17325055   780.1016522    231.07446554\n",
            "   608.40096898 48862.74989984 43152.93346419 42738.33958724\n",
            " 55969.99805911   229.84443715   371.01683955 10704.90421753\n",
            " 46444.64155273 21254.7730285  19233.37886942  3854.00291892\n",
            "   760.06654719   283.8419121  46425.68864714 20149.48932813\n",
            "  6855.59788231 40904.23523984   234.20005792   677.88784695\n",
            "  4077.74203254  4408.66645434  4077.64704563 36932.67900885\n",
            " 48819.14586212  7648.22314737 55833.24202656  9374.1190462\n",
            "  8665.35932828  6168.99844774   771.65951787   232.75597132\n",
            "  3630.17653709   447.18662161 38128.40836367 40117.01681769\n",
            "  4158.09803575 27351.02263607 47064.38312721 31719.80484422\n",
            "  4080.03974416 12962.40130396  8423.0942188   3882.09712659\n",
            "   671.77359042  5793.41510265 34297.76870625  8324.13162288\n",
            "   420.42243322   271.28532482 20189.09904622   665.10927009\n",
            " 15559.88950119 16345.35429395  9169.69312322 22813.0147554\n",
            "  6505.64268687 48247.91383073 57266.6793125   8245.76432687\n",
            "  7200.57071243  2616.5148621   3918.85135464   228.75460642\n",
            " 11074.98229562 36039.55006016  8578.64731616   320.75528951\n",
            "  6597.10968544   228.11485254 65606.13395312   434.55291115\n",
            "   322.95329081  9945.37413169   448.70360955  6674.44130833\n",
            "  1063.76044727 50602.5216529    774.94522987  7954.88675472\n",
            " 11093.66562961   290.85194216   411.35096858  1069.4129825\n",
            "  1004.30173543   609.8500095  15571.11963324  9082.56818956\n",
            "  6727.31586868 40695.35507552 47091.21686736   655.04389328\n",
            "  1027.7017863    290.86337026 56678.95629883 10853.86871639\n",
            "   539.524158   46658.44861198 57368.67951719  3601.39375582\n",
            "   463.1722422  62061.26053828   704.50745541 34002.35120703\n",
            " 11960.36931271  3624.98570263   688.36503309   971.88851289\n",
            "   381.1707219   9801.15230393   253.5578104   4775.92413428\n",
            " 64349.22157031 50032.49813281  4030.17447517 37785.40193685\n",
            "   639.24604718   376.29605415 47274.5910918  30438.79492773\n",
            "   423.9645871   8103.44754129  5242.65183464   750.28327231\n",
            " 37114.26694211  6966.86411899   444.98202393 35557.06682046\n",
            "   416.4773428  18329.1004189  10112.52056066  6783.04952719\n",
            "  7559.78891566 57521.55739974 58766.00560156   358.97406122\n",
            " 10584.13346341  8835.84750421  2201.10853954  8570.06377819\n",
            " 47176.44269502 45622.02803711   606.78103325 33488.09956354\n",
            "  3907.26911546 21477.13675182 10914.38631951  5543.01321281\n",
            "  2808.69517397 10358.61039393   318.38202857   236.05269634\n",
            " 40142.44021027   576.55251171 35486.23997651   236.54603808\n",
            " 14645.80772249  6403.09646857  8996.29670944   289.86687663\n",
            "   220.78133944 39478.76197656   790.90008797 15256.09449154\n",
            "  3625.04164714   273.94103308 57027.11334375 11432.77347329\n",
            " 59058.0500293    780.06948875  2558.03802361  6475.96008005\n",
            "   390.59432267  9325.15029158  7788.48102707   237.9173305\n",
            "  9640.41059281   455.60816507  6360.35791692 19182.45614474\n",
            "  5281.75865196   818.32198722  9342.26654253   232.11505613\n",
            "   575.15659772 23808.17895345  9135.95538139 44636.95644844\n",
            " 38083.14721094  9343.1003652   5421.18489653 43944.51591276\n",
            "  2567.52730784  2454.37019074   638.78033441 11586.17870601\n",
            " 15233.83344531   917.76850825  2578.37918692 29582.58475404\n",
            " 19107.3861156    586.4479731  13067.96963494  9419.89153473\n",
            " 57539.53011523  1203.77030416 35861.35064453   656.42183145\n",
            "  8910.63266998  3675.26806234 29073.14693887  6373.66303554\n",
            "  3617.37347992   236.59980625 40534.86578125  8595.30572179\n",
            "  9749.64007674 40346.89070469   229.67738064 47903.20283984\n",
            "  6728.69465688  9592.28189702 18820.57819234   417.34613116\n",
            "  9243.11490609   452.74887621 48196.29992513 10764.73125034\n",
            " 39997.50638668 15373.83380643  8049.39301526   367.29659218\n",
            " 17531.52866016  8923.07789678 59794.1774974  40957.88034102\n",
            "   221.02225792  5751.63110833  9087.131405    7558.16001159\n",
            "  8870.29580089  1227.48409658 11887.88076152 54867.92915234\n",
            "  5668.63958831   261.54011683 39463.29465273  8261.25522348\n",
            "   420.28718434 13800.90087568  9666.09615827   918.7688926\n",
            "  9475.10184488 11235.49084572  6372.03450534 14050.03897156\n",
            "  6384.60469007  9329.13878924   416.60370115   445.92422541\n",
            "  7141.93801714 58251.24671094 34720.7898401  40951.47246081\n",
            " 50664.68508594  2660.65537071  8202.16758634 46838.20869476\n",
            " 38467.22113352 29085.54255736 55019.11366406   229.61663979\n",
            " 13697.59093102 39696.64971416 42794.51995117  6565.40994116\n",
            "   394.59150152  6519.23709361   264.83652452  9412.65112673\n",
            "   212.00345588   253.55128273 29786.08320299  4087.59855896\n",
            " 16172.4729375    410.25402557  1256.2790358  33887.15864609\n",
            "  9527.66161866  8797.9124613  11672.74166761  6974.89956312\n",
            "  9351.20262554]\n",
            "(725,)\n"
          ]
        }
      ]
    },
    {
      "cell_type": "markdown",
      "source": [
        "## Métricas estatísticas e avaliação de desempenho\n",
        "\n",
        "Métricas estatísticas são métricas de erro para regressão, e eu as usei para calcular riscos. A avaliação do modelo é crítica e precisa ser avaliada para reduzir os riscos e aumentar o desempenho do modelo.\n",
        "\n",
        "O erro quadrático médio (RMSE) é o desvio padrão dos resíduos (erros de previsão). Os resíduos medem a distância dos pontos de dados da linha de regressão. O RMSE é uma medida de como esses resíduos estão espalhados. Em outras palavras, informa como os dados estão concentrados em torno da linha de melhor ajuste. Além disso, é a raiz quadrada de MSE. Quanto menor o valor de RMSE, melhor o desempenho. Deve ser baixo porque mede mais erros do que as outras métricas. O valor de RMSE maior que 0,5 reflete a baixa capacidade do modelo de prever os dados com precisão. O modelo irá prever dados mais precisos quando o valor de RMSE for menor que 0,5 e maior que 0,3.\n",
        "\n",
        "O erro médio absoluto (MEA) mede a magnitude média dos erros em um conjunto de previsões sem considerar sua direção. É a diferença média absoluta entre a previsão e a observação real onde todas as diferenças individuais têm o mesmo peso. Mais notavelmente, mede a distância entre o valor real e o valor previsto. Suponha que haja um valor de MEA de 5. O valor real é 20 e o valor de previsão é 25. No entanto, o MAE não pune erros na previsão. Portanto, se os erros fossem observados, deveria ser o erro quadrático médio ou o erro quadrático médio. Quanto menores os valores, melhor.\n",
        "\n",
        "O erro quadrático médio (MSE) leva a soma do valor absoluto do erro. O erro quadrático médio também determina o desempenho do modelo. Neste caso, erros maiores são bem notados, mais do que o do MAE. Quanto menor o valor de MSE, maior a precisão da previsão.\n",
        "\n",
        "A avaliação de desempenho em aprendizado de máquina é vital para saber o desempenho da previsão e do modelo. Neste projeto, r-quadrado e precisão foram usados ​​para avaliar o modelo. O valor do resultado obtido com a avaliação do modelo determinará se o modelo precisa ser melhorado. Pode ser tentar um algoritmo diferente, hiper-ajustar os parâmetros, adicionar mais dados ou aplicar engenharia de recursos.\n",
        "\n",
        "O R ao quadrado indica quão bem um modelo se ajusta a um determinado conjunto de dados. Indica o quão perto está a linha de regressão, ou seja, os valores previstos e reais plotados. O valor máximo é 1,0. Assim, quanto maiores os valores, melhor o ajuste do modelo. A linha de regressão ajusta-se bem aos dados e o desempenho do modelo é bom quando os valores de r-quadrado estão entre 0,6 e 1,0. Valores acima de 65% são considerados bons."
      ],
      "metadata": {
        "id": "fwLnQTmKcCsR"
      }
    },
    {
      "cell_type": "code",
      "source": [
        "print(\"Mean Absolute Error:\", round(metrics.mean_absolute_error(y_test, predict), 4))\n",
        "print(\"Mean Squared Error:\", round(metrics.mean_squared_error(y_test, predict), 4))\n",
        "print(\"Root Mean Squared Error:\", round(np.sqrt(metrics.mean_squared_error(y_test, predict)), 4))\n",
        "print(\"(R^2) Score:\", round(metrics.r2_score(y_test, predict), 4))\n",
        "print(f'Train Score : {model.score(x_train, y_train) * 100:.2f}% and Test Score : {model.score(x_test, y_test) * 100:.2f}% using Random Tree Regressor.')\n",
        "errors = abs(predict - y_test)\n",
        "mape = 100 * (errors / y_test)\n",
        "accuracy = 100 - np.mean(mape)\n",
        "print('Accuracy:', round(accuracy, 2), '%.') "
      ],
      "metadata": {
        "colab": {
          "base_uri": "https://localhost:8080/"
        },
        "id": "Qj2VWzHkcEey",
        "outputId": "562f754a-f67c-452d-d5be-c8ee37c0b56a"
      },
      "execution_count": 18,
      "outputs": [
        {
          "output_type": "stream",
          "name": "stdout",
          "text": [
            "Mean Absolute Error: 25.3211\n",
            "Mean Squared Error: 4243.2047\n",
            "Root Mean Squared Error: 65.1399\n",
            "(R^2) Score: 1.0\n",
            "Train Score : 100.00% and Test Score : 100.00% using Random Tree Regressor.\n",
            "Accuracy: 99.77 %.\n"
          ]
        }
      ]
    },
    {
      "cell_type": "markdown",
      "source": [
        "## Coleta os dias futuros dos valores previstos e plota"
      ],
      "metadata": {
        "id": "Mr4BTdw7cgO-"
      }
    },
    {
      "cell_type": "code",
      "source": [
        "predictions = pd.DataFrame({\"Predictions\": predict}, index=pd.date_range(start=df.index[-1], periods=len(predict), freq=\"D\"))\n",
        "predictions.to_csv(\"Predicted-price-data.csv\")\n",
        "#colllects future days from predicted values\n",
        "oneyear_df = pd.DataFrame(predictions[:252])\n",
        "oneyear_df.to_csv(\"one-year-predictions.csv\")\n",
        "onemonth_df = pd.DataFrame(predictions[:21])\n",
        "onemonth_df.to_csv(\"one-month-predictions.csv\")\n",
        "fivedays_df = pd.DataFrame(predictions[:5])\n",
        "fivedays_df.to_csv(\"five-days-predictions.csv\")"
      ],
      "metadata": {
        "id": "QjPZXpPvdPBi"
      },
      "execution_count": 19,
      "outputs": []
    },
    {
      "cell_type": "markdown",
      "source": [
        "## Previsão de 1 ano"
      ],
      "metadata": {
        "id": "sj6xCWCSdh9Q"
      }
    },
    {
      "cell_type": "code",
      "source": [
        "oneyear_df_pred = pd.read_csv(\"one-year-predictions.csv\")\n",
        "#oneyear_df_pred.set_index(\"Date\", inplace=True)\n",
        "buy_price = min(oneyear_df_pred[\"Predictions\"])\n",
        "sell_price = max(oneyear_df_pred[\"Predictions\"])\n",
        "oneyear_buy = oneyear_df_pred.loc[oneyear_df_pred[\"Predictions\"] == buy_price]\n",
        "oneyear_sell = oneyear_df_pred.loc[oneyear_df_pred[\"Predictions\"] == sell_price]\n",
        "print(\"Buy price and date\")\n",
        "print(oneyear_buy)\n",
        "print(\"Sell price and date\")\n",
        "print(oneyear_sell)\n",
        "oneyear_df_pred[\"Predictions\"].plot(figsize=(10, 5), title=\"Forecast for the next 1 year\", color=\"blue\")\n",
        "plt.xlabel(\"Date\")\n",
        "plt.ylabel(\"Price\")\n",
        "plt.legend()\n",
        "plt.show()"
      ],
      "metadata": {
        "id": "0OsKEASIeO7W",
        "outputId": "8a6f0eb3-1ae5-4f31-8aad-c931e9518627",
        "colab": {
          "base_uri": "https://localhost:8080/",
          "height": 454
        }
      },
      "execution_count": 22,
      "outputs": [
        {
          "output_type": "stream",
          "name": "stdout",
          "text": [
            "Buy price and date\n",
            "    Unnamed: 0  Predictions\n",
            "39  2022-09-24   213.088591\n",
            "Sell price and date\n",
            "    Unnamed: 0   Predictions\n",
            "90  2022-11-14  64262.202437\n"
          ]
        },
        {
          "output_type": "display_data",
          "data": {
            "text/plain": [
              "<Figure size 720x360 with 1 Axes>"
            ],
            "image/png": "[encoded data removed]"
          },
          "metadata": {
            "needs_background": "light"
          }
        }
      ]
    },
    {
      "cell_type": "markdown",
      "source": [
        "## Previsão de um mes"
      ],
      "metadata": {
        "id": "EVAgzQkzeUl6"
      }
    },
    {
      "cell_type": "code",
      "source": [
        "onemonth_df_pred = pd.read_csv(\"one-month-predictions.csv\")\n",
        "#onemonth_df_pred.set_index(\"Date\", inplace=True)\n",
        "buy_price = min(onemonth_df_pred[\"Predictions\"])\n",
        "sell_price = max(onemonth_df_pred[\"Predictions\"])\n",
        "onemonth_buy = onemonth_df_pred.loc[onemonth_df_pred[\"Predictions\"] == buy_price]\n",
        "onemonth_sell = onemonth_df_pred.loc[onemonth_df_pred[\"Predictions\"] == sell_price]\n",
        "print(\"Buy price and date\")\n",
        "print(onemonth_buy)\n",
        "print(\"Sell price and date\")\n",
        "print(onemonth_sell)\n",
        "onemonth_df_pred[\"Predictions\"].plot(figsize=(10, 5), title=\"Forecast for the next 1 month\", color=\"blue\")\n",
        "plt.xlabel(\"Date\")\n",
        "plt.ylabel(\"Price\")\n",
        "plt.legend()\n",
        "plt.show()"
      ],
      "metadata": {
        "id": "xgjwuwY5eYrU",
        "outputId": "70b2e4ad-848a-418e-da11-08de1a04c53e",
        "colab": {
          "base_uri": "https://localhost:8080/",
          "height": 454
        }
      },
      "execution_count": 24,
      "outputs": [
        {
          "output_type": "stream",
          "name": "stdout",
          "text": [
            "Buy price and date\n",
            "    Unnamed: 0  Predictions\n",
            "12  2022-08-28   240.401101\n",
            "Sell price and date\n",
            "   Unnamed: 0   Predictions\n",
            "3  2022-08-19  39165.307659\n"
          ]
        },
        {
          "output_type": "display_data",
          "data": {
            "text/plain": [
              "<Figure size 720x360 with 1 Axes>"
            ],
            "image/png": "[encoded data removed]"
          },
          "metadata": {
            "needs_background": "light"
          }
        }
      ]
    },
    {
      "cell_type": "markdown",
      "source": [
        "## previsão de 5 dias"
      ],
      "metadata": {
        "id": "7ceW4DAnefoF"
      }
    },
    {
      "cell_type": "code",
      "source": [
        "fivedays_df_pred = pd.read_csv(\"five-days-predictions.csv\")\n",
        "#fivedays_df_pred.set_index(\"Date\", inplace=True)\n",
        "buy_price = min(fivedays_df_pred[\"Predictions\"])\n",
        "sell_price = max(fivedays_df_pred[\"Predictions\"])\n",
        "fivedays_buy = fivedays_df_pred.loc[fivedays_df_pred[\"Predictions\"] == buy_price]\n",
        "fivedays_sell = fivedays_df_pred.loc[fivedays_df_pred[\"Predictions\"] == sell_price]\n",
        "print(\"Buy price and date\")\n",
        "print(fivedays_buy)\n",
        "print(\"Sell price and date\")\n",
        "print(fivedays_sell)\n",
        "fivedays_df_pred[\"Predictions\"].plot(figsize=(10, 5), title=\"Forecast for the next 5 days\", color=\"blue\")\n",
        "plt.xlabel(\"Date\")\n",
        "plt.ylabel(\"Price\")\n",
        "plt.legend()\n",
        "plt.show()"
      ],
      "metadata": {
        "id": "7O6j5DG3eaj-",
        "outputId": "b647c556-7d49-4204-daad-3761f4d268f8",
        "colab": {
          "base_uri": "https://localhost:8080/",
          "height": 454
        }
      },
      "execution_count": 25,
      "outputs": [
        {
          "output_type": "stream",
          "name": "stdout",
          "text": [
            "Buy price and date\n",
            "   Unnamed: 0  Predictions\n",
            "1  2022-08-17    702.01034\n",
            "Sell price and date\n",
            "   Unnamed: 0   Predictions\n",
            "3  2022-08-19  39165.307659\n"
          ]
        },
        {
          "output_type": "display_data",
          "data": {
            "text/plain": [
              "<Figure size 720x360 with 1 Axes>"
            ],
            "image/png": "[encoded data removed]"
          },
          "metadata": {
            "needs_background": "light"
          }
        }
      ]
    }
  ]
}